{
  "nbformat": 4,
  "nbformat_minor": 0,
  "metadata": {
    "colab": {
      "provenance": [],
      "authorship_tag": "ABX9TyM8ThdRc2y3Ki4gIP/KgTXK",
      "include_colab_link": true
    },
    "kernelspec": {
      "name": "python3",
      "display_name": "Python 3"
    },
    "language_info": {
      "name": "python"
    }
  },
  "cells": [
    {
      "cell_type": "markdown",
      "metadata": {
        "id": "view-in-github",
        "colab_type": "text"
      },
      "source": [
        "<a href=\"https://colab.research.google.com/github/andrebelem/Curso_GEE/blob/main/0_teste_earthengine.ipynb\" target=\"_parent\"><img src=\"https://colab.research.google.com/assets/colab-badge.svg\" alt=\"Open In Colab\"/></a>"
      ]
    },
    {
      "cell_type": "markdown",
      "source": [
        "# Testando 1..2..3\n",
        "\n",
        "**Autenticando e inicializando o Earth Engine**\n",
        "\n",
        "Você precisará criar um projeto do [Google Cloud](https://console.cloud.google.com/projectcreate) e ativar a [API Earth Engine](https://console.cloud.google.com/apis/api/earthengine.googleapis.com) para o projeto, e principalmente aqui no Colab, executar a autenticação em cada módulo.\n",
        "\n",
        "Se esta é a primeira vez que você está fazendo isso, você pode encontrar instruções detalhadas [aqui](https://book.geemap.org/chapters/01_introduction.html#earth-engine-authentication).\n",
        "\n",
        "**NOTA**: Eventualmente, você deverá configurar o seu SECRET como `EE_PROJECT_ID` e não `EARTHENGINE_TOKEN` como mostra alguns tutoriais na internet.\n",
        "\n",
        "As linhas abaixo, são executadas **APÓS** você ter configurado o seu projeto no Earth Engine. Execute uma por vez e siga as instruções que irão aparecer."
      ],
      "metadata": {
        "id": "7DgY_UsKcNiH"
      }
    },
    {
      "cell_type": "code",
      "execution_count": 1,
      "metadata": {
        "id": "wyxzy0NqcGil"
      },
      "outputs": [],
      "source": [
        "import ee\n",
        "import geemap\n",
        "ee.Authenticate()"
      ]
    },
    {
      "cell_type": "markdown",
      "source": [
        "Agora execute a próxima..."
      ],
      "metadata": {
        "id": "pksoEIKwc9vb"
      }
    },
    {
      "cell_type": "code",
      "source": [
        "# Aqui vocẽ deve trocar o projeto pelo \"SEU-PROJECT-ID\".\n",
        "# Note que se você usar o meu, não irá funcionar porque você não tem permissão\n",
        "ee.Initialize(project='ee-andrebelem')"
      ],
      "metadata": {
        "colab": {
          "base_uri": "https://localhost:8080/",
          "height": 17
        },
        "id": "15Ij8MoRc_58",
        "outputId": "178b5752-52ef-49c7-cf66-2d92dd505d2b"
      },
      "execution_count": 2,
      "outputs": [
        {
          "output_type": "display_data",
          "data": {
            "text/plain": [
              "<IPython.core.display.HTML object>"
            ],
            "text/html": [
              "\n",
              "            <style>\n",
              "                .geemap-dark {\n",
              "                    --jp-widgets-color: white;\n",
              "                    --jp-widgets-label-color: white;\n",
              "                    --jp-ui-font-color1: white;\n",
              "                    --jp-layout-color2: #454545;\n",
              "                    background-color: #383838;\n",
              "                }\n",
              "\n",
              "                .geemap-dark .jupyter-button {\n",
              "                    --jp-layout-color3: #383838;\n",
              "                }\n",
              "\n",
              "                .geemap-colab {\n",
              "                    background-color: var(--colab-primary-surface-color, white);\n",
              "                }\n",
              "\n",
              "                .geemap-colab .jupyter-button {\n",
              "                    --jp-layout-color3: var(--colab-primary-surface-color, white);\n",
              "                }\n",
              "            </style>\n",
              "            "
            ]
          },
          "metadata": {}
        }
      ]
    },
    {
      "cell_type": "markdown",
      "source": [
        "Se as duas células acima foram executadas sem erros, estamos *prontos* para começar. Só para ter uma ideia da versão do `geemap` instalada, execute aqui:"
      ],
      "metadata": {
        "id": "GKUdcZTNdI6N"
      }
    },
    {
      "cell_type": "code",
      "source": [
        "print(geemap.__version__) # quando este notebook foi criado, a versão era 0.33.1"
      ],
      "metadata": {
        "colab": {
          "base_uri": "https://localhost:8080/",
          "height": 34
        },
        "id": "-kQtlsMhdTrF",
        "outputId": "081f2978-f140-4293-939e-c74620782aa7"
      },
      "execution_count": 3,
      "outputs": [
        {
          "output_type": "display_data",
          "data": {
            "text/plain": [
              "<IPython.core.display.HTML object>"
            ],
            "text/html": [
              "\n",
              "            <style>\n",
              "                .geemap-dark {\n",
              "                    --jp-widgets-color: white;\n",
              "                    --jp-widgets-label-color: white;\n",
              "                    --jp-ui-font-color1: white;\n",
              "                    --jp-layout-color2: #454545;\n",
              "                    background-color: #383838;\n",
              "                }\n",
              "\n",
              "                .geemap-dark .jupyter-button {\n",
              "                    --jp-layout-color3: #383838;\n",
              "                }\n",
              "\n",
              "                .geemap-colab {\n",
              "                    background-color: var(--colab-primary-surface-color, white);\n",
              "                }\n",
              "\n",
              "                .geemap-colab .jupyter-button {\n",
              "                    --jp-layout-color3: var(--colab-primary-surface-color, white);\n",
              "                }\n",
              "            </style>\n",
              "            "
            ]
          },
          "metadata": {}
        },
        {
          "output_type": "stream",
          "name": "stdout",
          "text": [
            "0.33.1\n"
          ]
        }
      ]
    },
    {
      "cell_type": "markdown",
      "source": [
        "Agora vá até o Módulo 1 do curso e boa diversão."
      ],
      "metadata": {
        "id": "xJefv1dGdaT2"
      }
    }
  ]
}
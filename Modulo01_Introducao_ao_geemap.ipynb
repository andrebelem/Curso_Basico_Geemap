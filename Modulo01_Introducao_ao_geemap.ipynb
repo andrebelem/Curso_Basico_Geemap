{
  "cells": [
    {
      "cell_type": "markdown",
      "metadata": {
        "id": "view-in-github",
        "colab_type": "text"
      },
      "source": [
        "<a href=\"https://colab.research.google.com/github/andrebelem/Curso_Basico_Geemap/blob/main/Modulo01_Introducao_ao_geemap.ipynb\" target=\"_parent\"><img src=\"https://colab.research.google.com/assets/colab-badge.svg\" alt=\"Open In Colab\"/></a>"
      ]
    },
    {
      "cell_type": "markdown",
      "metadata": {
        "id": "_zAKNPgv1c5-"
      },
      "source": [
        "<small>Este material foi produzido para o *Curso Básico de Google Earth Engine no Python (usando o Google Colab )*. https://www.github.com/andrebelem/Curso_Basico_Geemap. Versão 1.0 | © 2024 Andre Belem\n",
        "[![Open In Colab](https://colab.research.google.com/assets/colab-badge.svg)](https://colab.research.google.com/github/andrebelem/Curso_Basico_Geemap/blob/main/Modulo01_Introducao_ao_geemap.ipynb). Se você tem algum tipo de dúvida ou quiser fazer um comentário, sugestão ou colaborar com este notebook... [![Mail Me](https://img.shields.io/badge/Envie_um-Email-blue)](mailto:andrebelem@id.uff.br)</small>\n",
        "\n",
        "\n"
      ]
    },
    {
      "cell_type": "markdown",
      "metadata": {
        "id": "sHvUNawCesVh"
      },
      "source": [
        "##Introdução ao Earth Engine e geemap\n",
        "\n",
        "O Earth Engine 🌍 é **gratuito** para uso não comercial e de pesquisa. Por mais de uma década, o Earth Engine tem capacitado a ciência e a análise de dados da Terra em escala planetária, apoiando organizações sem fins lucrativos, cientistas e outros usuários de impacto 🧑‍🔬. Com o lançamento do Earth Engine para uso comercial, os clientes comerciais 💼 serão cobrados pelos serviços. No entanto, o Earth Engine continuará sendo gratuito para uso não comercial e projetos de pesquisa. Organizações sem fins lucrativos, instituições acadêmicas, educadores, meios de comunicação, governos indígenas e pesquisadores governamentais continuarão a ter acesso gratuito ao Earth Engine, como têm feito nos últimos dez anos.\n",
        "\n",
        "O pacote [`geemap`](https://geemap.org/) Python é baseado na *API Python do Earth Engine* e em bibliotecas de mapeamento de código aberto. Ele permite que os usuários do Earth Engine manipulem, analisem e visualizem big data geoespacial de forma interativa em um ambiente Jupyter. Desde a sua criação em abril de 2020, o geemap recebeu mais de 3.300 estrelas no GitHub e está sendo usado por mais de 2.700 projetos no GitHub.\n",
        "\n",
        "O pacote `geemap` **já está pré-instalado** no Google Colab e é atualizado para a versão secundária ou principal mais recente a cada poucas semanas. Se por acaso você está rodando estes notebooks localmente na sua máquina, você precisará instalar alguns pacotes. Sugiro que se for esse o seu caso, siga as instruções de instalação do geemap [aqui](https://geemap.org/installation/).\n",
        "\n",
        "<h3>**Dica importante**: Este material foi desenvolvido exclusivamente para o Google Colab, para que os alunos possam testar os comandos do `geemap` sem a necessidade de uma extensa e exaustiva instalação de pacotes locais.</h3>\n"
      ]
    },
    {
      "cell_type": "markdown",
      "metadata": {
        "id": "om4fqluPfPX-"
      },
      "source": [
        "### Porém, caso você esteja rodando localmente ...\n",
        "\n",
        "Alguns recursos do `geemap` podem não funcionar corretamente no Google Colab. Se você estiver familiarizado com Anaconda ou Miniconda, é recomendado criar um novo ambiente conda para instalar o `geemap` e suas dependências opcionais em seu computador local. Abaixo, sugerimos um passo a passo de como fazer isso:\n",
        "\n",
        "```\n",
        "conda create -n MyGIS python=3.11\n",
        "conda ativar MyGIS\n",
        "conda install -c conda-forge mamba\n",
        "mamba install -c conda-forge geemap pygis\n",
        "```\n",
        "(Obviamente, mude o `env` para o nome que desejar!). Porém, note que é apenas uma sugestão e você pode adaptar de acordo com suas necessidades. Nosso curso se concentra apenas no `geemap` e no `ee` *dentro do colab*."
      ]
    },
    {
      "cell_type": "markdown",
      "metadata": {
        "id": "oOM8yvVwf1Sr"
      },
      "source": [
        "# Google Colab and Earth Engine Python API authentication\n",
        "\n",
        "\n",
        "Aqui vamos importar tudo que precisamos do `earthengine` e principalmente autenticar e inicializar. Note que você já deve ter testado isso no notebook `0_teste_earthengine.ipynb` (como está descrito no [Readme](https://github.com/andrebelem/Curso_Basico_Geemap/blob/main/README.md) deste curso). Ali, eu explico que você precisará criar um projeto do [Google Cloud](https://console.cloud.google.com/projectcreate) e ativar a [API Earth Engine](https://console.cloud.google.com/apis/api/earthengine.googleapis.com) para o projeto. Você pode encontrar instruções detalhadas [aqui](https://book.geemap.org/chapters/01_introduction.html#earth-engine-authentication) ou *traduzido*, [aqui](https://github.com/andrebelem/Curso_Basico_Geemap/blob/main/EE_Authentication.md) !.\n",
        "\n",
        "**NOTA**: Eventualmente, você deverá configurar o seu SECRET como `EE_PROJECT_ID` (e não apenas como `EARTHENGINE_TOKEN`, como mostra alguns tutoriais na internet). Quando fizer isso, basta inicializar e autenticar em cada notebook que você abrir e daqui para frente, apenas indicaremos quando você deve fazer a inicialização/autenticação, basicamente, ao início de cada notebook ou módulo.\n",
        "\n",
        "### E vamos autenticar ..."
      ]
    },
    {
      "cell_type": "code",
      "execution_count": null,
      "metadata": {
        "id": "_wfmwAdxgAbm"
      },
      "outputs": [],
      "source": [
        "import ee\n",
        "import geemap\n",
        "ee.Authenticate()"
      ]
    },
    {
      "cell_type": "code",
      "execution_count": null,
      "metadata": {
        "id": "mNdl65xAgYXP"
      },
      "outputs": [],
      "source": [
        "# Aqui você deve trocar o projeto pelo \"SEU-PROJECT-ID\"\n",
        "ee.Initialize(project='ee-andrebelem') #<-- não custa repetir ! Use o \"seu\" projeto. Se mantiver o meu aqui, não irá funcionar !"
      ]
    },
    {
      "cell_type": "markdown",
      "metadata": {
        "id": "2oSbKyz5hce4"
      },
      "source": [
        "## Criando mapas interativos\n",
        "\n",
        "Vamos criar um mapa interativo usando o backend de plotagem `ipyleaflet`. A classe [`geemap.Map`](https://geemap.org/geemap/#geemap.geemap.m) herda a classe [`ipyleaflet.Map`](https://ipyleaflet.readthedocs.io/en/latest/map_and_basemaps/map.html). Portanto, você pode usar a mesma sintaxe para criar um mapa interativo, assim como faria com `ipyleaflet.Map`."
      ]
    },
    {
      "cell_type": "code",
      "execution_count": null,
      "metadata": {
        "id": "y66U-Xw7hgcY"
      },
      "outputs": [],
      "source": [
        "map = geemap.Map()\n",
        "# para mostrar o mapa dentro do Jupyter, simplesmente pergunte pela representação do objeto criado\n",
        "map"
      ]
    },
    {
      "cell_type": "markdown",
      "metadata": {
        "id": "o0yPUC_wCS0w"
      },
      "source": [
        "Para personalizar o mapa, você pode especificar vários argumentos de palavras-chave, como centro ([lat, lon]), zoom, largura e altura. A largura padrão é 100%, que ocupa toda a largura da célula do notebook Jupyter. O argumento height aceita um número ou uma string. Se for fornecido um número, ele representa a altura do mapa em pixels. Se uma string for fornecida, a string deverá estar no formato de um número seguido de px, por exemplo, 600px.\n"
      ]
    },
    {
      "cell_type": "code",
      "execution_count": null,
      "metadata": {
        "id": "WeLi5oVbCv4U"
      },
      "outputs": [],
      "source": [
        "map = geemap.Map(center=[-22.8, -43.3], zoom=10, height=\"600xp\")\n",
        "map"
      ]
    },
    {
      "cell_type": "markdown",
      "metadata": {
        "id": "8E7bDONRDN1G"
      },
      "source": [
        "Para ocultar um controle, defina `control_name` como `False`, por exemplo, `draw_ctrl=False`."
      ]
    },
    {
      "cell_type": "code",
      "execution_count": null,
      "metadata": {
        "id": "Ezy08mk5DTSN"
      },
      "outputs": [],
      "source": [
        "map = geemap.Map(center=[-22.8, -43.3], zoom=8, data_ctrl=False, toolbar_ctrl=False, draw_ctrl=False)\n",
        "map"
      ]
    },
    {
      "cell_type": "markdown",
      "metadata": {
        "id": "lOYtN_RADiM4"
      },
      "source": [
        "### Adicionando mapas base\n",
        "\n",
        "Existem diversas maneiras de adicionar mapas base a um mapa. Você pode especificar o mapa base a ser usado no argumento da palavra-chave `basemap` ao criar o mapa. Alternativamente, você pode adicionar camadas de mapa base ao mapa usando o método `add_basemap`. Geemap possui centenas de mapas base integrados disponíveis que podem ser facilmente adicionados ao mapa com apenas uma linha de código.\n",
        "\n",
        "Crie um mapa especificando o mapa base a ser usado conforme a seguir. Por exemplo, o mapa base `Esri.WorldImagery` representa o mapa base de imagens mundiais da Esri."
      ]
    },
    {
      "cell_type": "code",
      "execution_count": null,
      "metadata": {
        "id": "Ep4q8EQ-DhxX"
      },
      "outputs": [],
      "source": [
        "map = geemap.Map(center=[-22.8, -43.3], zoom=8, basemap=\"Esri.WorldImagery\")\n",
        "map"
      ]
    },
    {
      "cell_type": "markdown",
      "metadata": {
        "id": "foYnSh6sDvVo"
      },
      "source": [
        "Você pode adicionar quantos mapas base desejar ao mapa. Por exemplo, o código a seguir adiciona o mapa base `OpenTopoMap` ao mapa acima:"
      ]
    },
    {
      "cell_type": "code",
      "execution_count": null,
      "metadata": {
        "id": "k22TE_iGD0hy"
      },
      "outputs": [],
      "source": [
        "map.add_basemap(\"OpenTopoMap\") # note que ele vai modificar o mapa que está acima !"
      ]
    },
    {
      "cell_type": "markdown",
      "metadata": {
        "id": "c-sjuDNfEFAz"
      },
      "source": [
        "Você também pode alterar mapas base interativamente usando a GUI do mapa base."
      ]
    },
    {
      "cell_type": "code",
      "execution_count": null,
      "metadata": {
        "id": "yDQItlnCEBfa"
      },
      "outputs": [],
      "source": [
        "map = geemap.Map(center=[-22.8808, -43.1043], zoom=12)\n",
        "map.add(\"basemap_selector\")\n",
        "map"
      ]
    },
    {
      "cell_type": "markdown",
      "metadata": {
        "id": "bESTWMSGEd5G"
      },
      "source": [
        "## Como usar dados do Earth Engine\n",
        "\n",
        "### Tipos de dados do Earth Engine\n",
        "\n",
        "Os objetos do Earth Engine são objetos do lado do servidor, e não objetos do lado do cliente, o que significa que eles não são armazenados localmente no seu computador. Semelhante aos serviços de streaming de vídeo (por exemplo, YouTube, Netflix e Hulu), que armazenam vídeos/filmes em seus servidores, os dados do Earth Engine são armazenados nos servidores do Earth Engine. Podemos transmitir dados geoespaciais do Earth Engine dinamicamente, sem precisar baixar os dados, assim como podemos assistir a vídeos de serviços de streaming usando um navegador da web, sem precisar baixar o vídeo inteiro para o seu computador.\n",
        "\n",
        "- **Imagem**: o tipo de dados raster fundamental no Earth Engine.\n",
        "- **ImageCollection**: uma pilha ou série temporal de imagens.\n",
        "- **Geometria**: o tipo de dados vetoriais fundamental no Earth Engine.\n",
        "- **Recurso**: uma Geometria com atributos.\n",
        "- **FeatureCollection**: um conjunto de recursos.\n",
        "\n",
        "### Imagem\n",
        "\n",
        "Os dados raster no Earth Engine são representados como objetos **Imagem**. As imagens são compostas por uma ou mais bandas e cada banda possui seu próprio nome, tipo de dados, escala, máscara e projeção. Cada imagem possui metadados armazenados como um conjunto de propriedades.\n",
        "\n",
        "#### Carregando imagens do Earth Engine\n",
        "\n",
        "Vamos ver como chamamos um \"asset\" do Earth Engine:"
      ]
    },
    {
      "cell_type": "code",
      "execution_count": null,
      "metadata": {
        "id": "Hky0Kf1eEihP"
      },
      "outputs": [],
      "source": [
        "image = ee.Image(\"USGS/SRTMGL1_003\")\n",
        "image"
      ]
    },
    {
      "cell_type": "markdown",
      "metadata": {
        "id": "DapkHDLKE5Kx"
      },
      "source": [
        "O asset `USGS/SRTMGL1_003` refere-se aos dados do Shuttle Radar Topography Mission (SRTM) do U.S. Geological Survey (USGS). O SRTM foi uma missão espacial conduzida pela NASA e pela National Geospatial-Intelligence Agency (NGA) em fevereiro de 2000, com o objetivo de obter dados topográficos de alta resolução da superfície terrestre. Ele possui uma cobertura \"quasei\"-global entre 60°N e 56°S e uma resolução espacial de aproximadamente 30 metros (1 arco-segundo). Depois que temos o nosso \"asset\" armazenado, basta plotar...\n",
        "\n",
        "#### Visualização de imagens do Earth Engine\n",
        "\n",
        "Vamos configurar mais algumas coisas, como por exemplo o máximo e o mínimo do conjunto de dados e qual cor irá representar esses valores. Note como essa chamada é construida:"
      ]
    },
    {
      "cell_type": "code",
      "execution_count": null,
      "metadata": {
        "id": "zmbgrbQ0E6KA"
      },
      "outputs": [],
      "source": [
        "map = geemap.Map(center=[-22.8808, -43.1043], zoom=8)\n",
        "image = ee.Image(\"USGS/SRTMGL1_003\")\n",
        "vis_params = {\n",
        "    \"min\": 0,\n",
        "    \"max\": 2100,\n",
        "    \"palette\": [\n",
        "        \"0000ff\", \"00ffff\", \"00ff00\", \"ffff00\", \"ff0000\", \"800000\", \"ffffff\"\n",
        "    ],  # Paleta ETOPO\n",
        "}\n",
        "map.add_layer(image, vis_params, \"SRTM\")\n",
        "map"
      ]
    },
    {
      "cell_type": "markdown",
      "metadata": {
        "id": "WMeGjRNneuu_"
      },
      "source": [
        "### ImageCollection\n",
        "\n",
        "Uma `ImageCollection` é uma pilha ou sequência de imagens e pode ser carregada passando um ID de asset do Earth Engine no construtor `ImageCollection`. Você pode encontrar IDs de `ImageCollection` no [Catálogo de Dados do Earth Engine](https://developers.google.com/earth-engine/datasets). Note apenas que ao carregar um asset como esse, você tem que ter certeza dos atributos que ele fornece.\n",
        "\n",
        "#### Carregando coleções de imagens\n",
        "\n",
        "Por exemplo, para carregar a coleção de imagens de [reflectância de superfície do Sentinel-2](https://developers.google.com/earth-engine/datasets/catalog/COPERNICUS_S2_SR). Porém, para visualizar uma **ImageCollection** do Earth Engine, precisamos converter uma **ImageCollection** em uma **Image** compondo todas as imagens da coleção em uma única imagem que represente, por exemplo, o mínimo, máximo, mediana, média ou desvio padrão das imagens (ou a primeira, ou a última ou qualquer imagem da sequência). Por exemplo, para criar uma imagem com valores medianos a partir de uma coleção, use o método `collection.median()`.\n",
        "\n"
      ]
    },
    {
      "cell_type": "code",
      "execution_count": null,
      "metadata": {
        "id": "E0fwTYSbfdvt"
      },
      "outputs": [],
      "source": [
        "# Criar um mapa\n",
        "map = geemap.Map()\n",
        "\n",
        "# Carregar a coleção de imagens Sentinel-2\n",
        "collection = (\n",
        "    ee.ImageCollection(\"COPERNICUS/S2_SR\") # <--- este é o asset\n",
        "    .filterDate(\"2023-01-01\", \"2024-01-01\") # <-- este é o range de datas\n",
        "    .filter(ee.Filter.lt(\"CLOUDY_PIXEL_PERCENTAGE\", 5)) # <-- e eu ainda posso aplicar um filtro\n",
        ")\n",
        "\n",
        "# Criar uma imagem mediana a partir da coleção\n",
        "image = collection.median()\n",
        "\n",
        "# Definir os parâmetros de visualização\n",
        "vis = {\n",
        "    \"min\": 0.0,\n",
        "    \"max\": 3000,\n",
        "    \"bands\": [\"B4\", \"B3\", \"B2\"],\n",
        "}\n",
        "\n",
        "# Centralizar o mapa em uma coordenada específica e adicionar a camada de imagem\n",
        "map.set_center(-43.1043,-22.8808, 10) # <--- note que neste caso a construção é Lon/Lat/Zoom\n",
        "map.add_layer(image, vis, \"Sentinel-2\")\n",
        "\n",
        "# Exibir o mapa\n",
        "map"
      ]
    },
    {
      "cell_type": "markdown",
      "metadata": {
        "id": "NhmpYsqGpkjD"
      },
      "source": [
        "### FeatureCollection\n",
        "\n",
        "Uma **FeatureCollection** é uma coleção de feições, e é análoga a um objeto `GeoJSON FeatureCollection`, ou seja, uma coleção de objetos geográficos com propriedades/atributos associados. Dados contidos em um shapefile, por exemplo, podem ser representados como uma `FeatureCollection`.\n",
        "\n",
        "#### Carregando coleções de features\n",
        "\n",
        "O [Catálogo de Dados do Earth Engine](https://developers.google.com/earth-engine/datasets) hospeda uma variedade de conjuntos de dados vetoriais (por exemplo, uso da terra, dados censitários, etc) como coleções de features. Você pode encontrar IDs de coleções de features pesquisando no catálogo de dados. Por exemplo, para carregar os [World Database on Protected Areas (polygons)](https://developers.google.com/earth-engine/datasets/catalog/WCMC_WDPA_current_polygons) produzido pela UN Environment World Conservation Monitoring Centre (UNEP-WCMC), e vamos plotar o Parque Estadual da Serra da Tiririca:\n"
      ]
    },
    {
      "cell_type": "code",
      "execution_count": null,
      "metadata": {
        "id": "lf3erSdSqJjA"
      },
      "outputs": [],
      "source": [
        "# Criando um mapa com geemap\n",
        "map = geemap.Map()\n",
        "\n",
        "# Carregando a FeatureCollection\n",
        "dataset = ee.FeatureCollection('WCMC/WDPA/current/polygons')\n",
        "\n",
        "# agora vou filtra um nome:\n",
        "parque = dataset.filter(ee.Filter.eq(\"NAME\", \"Parque Estadual Da Serra Da Tiririca\"))\n",
        "map.add_layer(parque, {}, \"Parque Estadual Da Serra Da Tiririca\")\n",
        "map.center_object(parque, 12)\n",
        "map\n",
        "\n"
      ]
    },
    {
      "cell_type": "markdown",
      "metadata": {
        "id": "qo1x6_YDvZ7G"
      },
      "source": [
        "### Catálogo de Dados do Earth Engine\n",
        "\n",
        "O [Catálogo de Dados do Earth Engine](https://developers.google.com/earth-engine/datasets) hospeda uma variedade de conjuntos de dados geoespaciais de diferentes fontes e dados de julho de 2024 mostra que o catálogo contém mais de [1.100 conjuntos de dados](https://github.com/opengeos/Earth-Engine-Catalog/blob/master/gee_catalog.tsv) com um tamanho total de mais de 100 petabytes. Alguns conjuntos de dados notáveis incluem: imagens dos satélites Landsat, Sentinel, MODIS, NAIP, etc, além de uma enorme variedade de dados vetoriais. Para uma lista completa de conjuntos de dados em formatos CSV ou JSON, consulte a [Lista de Conjuntos de Dados do Earth Engine](https://github.com/giswqs/Earth-Engine-Catalog/blob/master/gee_catalog.tsv).\n",
        "\n",
        "#### Pesquisando conjuntos de dados\n",
        "\n",
        "É possível pesquisar o [Catálogo de Dados do Earth Engine](https://developers.google.com/earth-engine/datasets/catalog) por nome, palavra-chave ou *tag*. Por exemplo, se você pesquisar por \"elevação\" (*elevation*) na caixa de pesquisa filtrará o catálogo para mostrar apenas os conjuntos de dados que contêm \"elevação\" em seu nome, descrição ou tags. Neste caso, 52 conjuntos de dados são retornados para essa consulta de pesquisa (em Julho de 2024). Role a lista para encontrar o conjunto de dados [NASA SRTM Digital Elevation 30m](https://developers.google.com/earth-engine/datasets/catalog/USGS_SRTMGL1_003#description). Em cada página de conjunto de dados, você pode encontrar as informações do asset, incluindo Disponibilidade do Conjunto de Dados, Provedor do Conjunto de Dados, Trecho de Código do Earth Engine, Tags, Descrição, Exemplo de Código e mais. Uma informação importante é o ID de Image/ImageCollection/FeatureCollection de cada conjunto de dados, que é essencial para acessar o conjunto de dados através das APIs JavaScript ou Python do Earth Engine.\n",
        "\n",
        "![](https://i.imgur.com/B3rf4QN.jpg)\n",
        "\n",
        "Vamos então para nosso treino. Imagine que você irá levantar o modelo digital de terreno ao redor do Parque Estadual da Serra da Tiririca (exemplo acima).\n"
      ]
    },
    {
      "cell_type": "code",
      "execution_count": null,
      "metadata": {
        "id": "MVYrgTF_hQqX"
      },
      "outputs": [],
      "source": [
        "map = geemap.Map()\n",
        "dem = ee.Image(\"USGS/SRTMGL1_003\")\n",
        "vis_params = {\n",
        "    \"min\": 0,\n",
        "    \"max\": 300,\n",
        "    \"palette\": [\n",
        "        \"0000ff\", \"00ffff\", \"00ff00\", \"ffff00\", \"ff0000\", \"800000\", \"ffffff\"\n",
        "    ],  # Paleta ETOPO\n",
        "}\n",
        "map.add_layer(dem, vis_params, \"SRTM DEM\")\n",
        "map.center_object(parque, 12)\n",
        "map"
      ]
    },
    {
      "cell_type": "markdown",
      "metadata": {
        "id": "s_Kbyb26c3gM"
      },
      "source": [
        "### Exercício proposto 1 - Criando imagens sem nuvens\n",
        "\n",
        "Crie uma imagem sem nuvens de um **estado brasileiro** para o ano de 2023. Você pode usar imagens do Landsat 9 ou Sentinel-2. Ativos relevantes do Earth Engine:\n",
        "\n",
        "- FAO GAUL: Global Administrative Unit Layers 2015, First-Level Administrative Units [ee.FeatureCollection(\"FAO/GAUL/2015/level1\")](https://developers.google.com/earth-engine/datasets/catalog/FAO_GAUL_2015_level1)\n",
        "- Imagens do Sentinel-2  [ee.ImageCollection(\"COPERNICUS/S2_SR\")](https://developers.google.com/earth-engine/datasets/catalog/COPERNICUS_S2_SR)\n",
        "- Imagens do Landsat 9 (Tier 1)  [ee.ImageCollection(\"LANDSAT/LC09/C02/T1_L2\")](https://developers.google.com/earth-engine/datasets/catalog/LANDSAT_LC09_C02_T1_L2)"
      ]
    },
    {
      "cell_type": "code",
      "execution_count": null,
      "metadata": {
        "id": "Pbu7bruZeaCS"
      },
      "outputs": [],
      "source": [
        "# Escreva seu código aqui ou crie um notebook separado"
      ]
    }
  ],
  "metadata": {
    "colab": {
      "provenance": [],
      "private_outputs": true,
      "include_colab_link": true
    },
    "kernelspec": {
      "display_name": "Python 3",
      "name": "python3"
    },
    "language_info": {
      "codemirror_mode": {
        "name": "ipython",
        "version": 3
      },
      "file_extension": ".py",
      "mimetype": "text/x-python",
      "name": "python",
      "nbconvert_exporter": "python",
      "pygments_lexer": "ipython3",
      "version": "3.10.14"
    }
  },
  "nbformat": 4,
  "nbformat_minor": 0
}